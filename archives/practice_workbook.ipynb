{
 "cells": [
  {
   "cell_type": "code",
   "execution_count": 1,
   "metadata": {},
   "outputs": [],
   "source": [
    "import pandas as pd\n",
    "import numpy as np\n",
    "import ast\n",
    "from scipy import stats\n",
    "import matplotlib.pyplot as plt\n",
    "%matplotlib inline\n",
    "# from functions_josh import *"
   ]
  },
  {
   "cell_type": "code",
   "execution_count": 2,
   "metadata": {},
   "outputs": [],
   "source": [
    "# Load dataframe\n",
    "df = pd.read_csv('shows_imdb_rt.csv', index_col=0)"
   ]
  },
  {
   "cell_type": "code",
   "execution_count": 3,
   "metadata": {},
   "outputs": [
    {
     "data": {
      "text/html": [
       "<div>\n",
       "<style scoped>\n",
       "    .dataframe tbody tr th:only-of-type {\n",
       "        vertical-align: middle;\n",
       "    }\n",
       "\n",
       "    .dataframe tbody tr th {\n",
       "        vertical-align: top;\n",
       "    }\n",
       "\n",
       "    .dataframe thead th {\n",
       "        text-align: right;\n",
       "    }\n",
       "</style>\n",
       "<table border=\"1\" class=\"dataframe\">\n",
       "  <thead>\n",
       "    <tr style=\"text-align: right;\">\n",
       "      <th></th>\n",
       "      <th>title</th>\n",
       "      <th>network</th>\n",
       "      <th>imdb_rating</th>\n",
       "      <th>num_imdb_ratings</th>\n",
       "      <th>rt_critic_rating</th>\n",
       "      <th>rt_audience_rating</th>\n",
       "      <th>genres</th>\n",
       "      <th>tv_rating</th>\n",
       "      <th>release_year</th>\n",
       "      <th>runtime_mins</th>\n",
       "      <th>imdb_url</th>\n",
       "    </tr>\n",
       "  </thead>\n",
       "  <tbody>\n",
       "    <tr>\n",
       "      <th>0</th>\n",
       "      <td>La Casa de Papel</td>\n",
       "      <td>Netflix</td>\n",
       "      <td>8.5</td>\n",
       "      <td>215007</td>\n",
       "      <td>91.0</td>\n",
       "      <td>82.0</td>\n",
       "      <td>['action', 'crime', 'mystery', 'thriller']</td>\n",
       "      <td>TV-MA</td>\n",
       "      <td>2017.0</td>\n",
       "      <td>70.0</td>\n",
       "      <td>https://www.imdb.com/title/tt6468322/</td>\n",
       "    </tr>\n",
       "    <tr>\n",
       "      <th>1</th>\n",
       "      <td>Ozark</td>\n",
       "      <td>Netflix</td>\n",
       "      <td>8.4</td>\n",
       "      <td>136710</td>\n",
       "      <td>81.0</td>\n",
       "      <td>91.0</td>\n",
       "      <td>['crime', 'drama', 'thriller']</td>\n",
       "      <td>TV-MA</td>\n",
       "      <td>2017.0</td>\n",
       "      <td>60.0</td>\n",
       "      <td>https://www.imdb.com/title/tt5071412/</td>\n",
       "    </tr>\n",
       "    <tr>\n",
       "      <th>2</th>\n",
       "      <td>Tiger King</td>\n",
       "      <td>Netflix</td>\n",
       "      <td>7.8</td>\n",
       "      <td>33700</td>\n",
       "      <td>86.0</td>\n",
       "      <td>86.0</td>\n",
       "      <td>['documentary', 'crime']</td>\n",
       "      <td>TV-MA</td>\n",
       "      <td>2020.0</td>\n",
       "      <td>31.0</td>\n",
       "      <td>https://www.imdb.com/title/tt11823076/</td>\n",
       "    </tr>\n",
       "    <tr>\n",
       "      <th>3</th>\n",
       "      <td>Westworld</td>\n",
       "      <td>HBO</td>\n",
       "      <td>8.7</td>\n",
       "      <td>388252</td>\n",
       "      <td>85.0</td>\n",
       "      <td>80.0</td>\n",
       "      <td>['drama', 'mystery', 'sci-fi', 'western']</td>\n",
       "      <td>TV-MA</td>\n",
       "      <td>2016.0</td>\n",
       "      <td>62.0</td>\n",
       "      <td>https://www.imdb.com/title/tt0475784/</td>\n",
       "    </tr>\n",
       "    <tr>\n",
       "      <th>4</th>\n",
       "      <td>The Walking Dead</td>\n",
       "      <td>AMC</td>\n",
       "      <td>8.2</td>\n",
       "      <td>821809</td>\n",
       "      <td>81.0</td>\n",
       "      <td>78.0</td>\n",
       "      <td>['drama', 'horror', 'thriller']</td>\n",
       "      <td>TV-MA</td>\n",
       "      <td>2010.0</td>\n",
       "      <td>44.0</td>\n",
       "      <td>https://www.imdb.com/title/tt1520211/</td>\n",
       "    </tr>\n",
       "  </tbody>\n",
       "</table>\n",
       "</div>"
      ],
      "text/plain": [
       "              title  network  imdb_rating  num_imdb_ratings  rt_critic_rating  \\\n",
       "0  La Casa de Papel  Netflix          8.5            215007              91.0   \n",
       "1             Ozark  Netflix          8.4            136710              81.0   \n",
       "2        Tiger King  Netflix          7.8             33700              86.0   \n",
       "3         Westworld      HBO          8.7            388252              85.0   \n",
       "4  The Walking Dead      AMC          8.2            821809              81.0   \n",
       "\n",
       "   rt_audience_rating                                      genres tv_rating  \\\n",
       "0                82.0  ['action', 'crime', 'mystery', 'thriller']     TV-MA   \n",
       "1                91.0              ['crime', 'drama', 'thriller']     TV-MA   \n",
       "2                86.0                    ['documentary', 'crime']     TV-MA   \n",
       "3                80.0   ['drama', 'mystery', 'sci-fi', 'western']     TV-MA   \n",
       "4                78.0             ['drama', 'horror', 'thriller']     TV-MA   \n",
       "\n",
       "   release_year  runtime_mins                                imdb_url  \n",
       "0        2017.0          70.0   https://www.imdb.com/title/tt6468322/  \n",
       "1        2017.0          60.0   https://www.imdb.com/title/tt5071412/  \n",
       "2        2020.0          31.0  https://www.imdb.com/title/tt11823076/  \n",
       "3        2016.0          62.0   https://www.imdb.com/title/tt0475784/  \n",
       "4        2010.0          44.0   https://www.imdb.com/title/tt1520211/  "
      ]
     },
     "execution_count": 3,
     "metadata": {},
     "output_type": "execute_result"
    }
   ],
   "source": [
    "# Take a peek\n",
    "df.head()"
   ]
  },
  {
   "cell_type": "code",
   "execution_count": 4,
   "metadata": {},
   "outputs": [
    {
     "name": "stdout",
     "output_type": "stream",
     "text": [
      "<class 'pandas.core.frame.DataFrame'>\n",
      "Int64Index: 247 entries, 0 to 246\n",
      "Data columns (total 11 columns):\n",
      " #   Column              Non-Null Count  Dtype  \n",
      "---  ------              --------------  -----  \n",
      " 0   title               247 non-null    object \n",
      " 1   network             247 non-null    object \n",
      " 2   imdb_rating         247 non-null    float64\n",
      " 3   num_imdb_ratings    247 non-null    int64  \n",
      " 4   rt_critic_rating    247 non-null    float64\n",
      " 5   rt_audience_rating  194 non-null    float64\n",
      " 6   genres              247 non-null    object \n",
      " 7   tv_rating           247 non-null    object \n",
      " 8   release_year        247 non-null    float64\n",
      " 9   runtime_mins        247 non-null    float64\n",
      " 10  imdb_url            247 non-null    object \n",
      "dtypes: float64(5), int64(1), object(5)\n",
      "memory usage: 23.2+ KB\n"
     ]
    }
   ],
   "source": [
    "# Check for datatypes and null values\n",
    "df.info()"
   ]
  },
  {
   "cell_type": "code",
   "execution_count": 5,
   "metadata": {},
   "outputs": [
    {
     "name": "stdout",
     "output_type": "stream",
     "text": [
      "<class 'pandas.core.frame.DataFrame'>\n",
      "Int64Index: 247 entries, 0 to 246\n",
      "Data columns (total 10 columns):\n",
      " #   Column            Non-Null Count  Dtype  \n",
      "---  ------            --------------  -----  \n",
      " 0   title             247 non-null    object \n",
      " 1   network           247 non-null    object \n",
      " 2   imdb_rating       247 non-null    float64\n",
      " 3   num_imdb_ratings  247 non-null    int64  \n",
      " 4   rt_critic_rating  247 non-null    float64\n",
      " 5   genres            247 non-null    object \n",
      " 6   tv_rating         247 non-null    object \n",
      " 7   release_year      247 non-null    float64\n",
      " 8   runtime_mins      247 non-null    float64\n",
      " 9   imdb_url          247 non-null    object \n",
      "dtypes: float64(4), int64(1), object(5)\n",
      "memory usage: 21.2+ KB\n"
     ]
    }
   ],
   "source": [
    "# Drop column with null values, knowing we can grab it later if necessary\n",
    "df = df.dropna(axis=1)\n",
    "df.info()"
   ]
  },
  {
   "cell_type": "code",
   "execution_count": 6,
   "metadata": {},
   "outputs": [
    {
     "name": "stdout",
     "output_type": "stream",
     "text": [
      "<class 'pandas.core.frame.DataFrame'>\n",
      "Int64Index: 247 entries, 0 to 246\n",
      "Data columns (total 10 columns):\n",
      " #   Column            Non-Null Count  Dtype  \n",
      "---  ------            --------------  -----  \n",
      " 0   title             247 non-null    object \n",
      " 1   network           247 non-null    object \n",
      " 2   imdb_rating       247 non-null    float64\n",
      " 3   num_imdb_ratings  247 non-null    int64  \n",
      " 4   rt_critic_rating  247 non-null    int64  \n",
      " 5   genres            247 non-null    object \n",
      " 6   tv_rating         247 non-null    object \n",
      " 7   release_year      247 non-null    int64  \n",
      " 8   runtime_mins      247 non-null    int64  \n",
      " 9   imdb_url          247 non-null    object \n",
      "dtypes: float64(1), int64(4), object(5)\n",
      "memory usage: 21.2+ KB\n"
     ]
    }
   ],
   "source": [
    "# Change dtypes for columns without null values\n",
    "df[['rt_critic_rating', 'release_year', 'runtime_mins']] = df[['rt_critic_rating', 'release_year', 'runtime_mins']].astype('int64')\n",
    "df.info()"
   ]
  },
  {
   "cell_type": "code",
   "execution_count": 7,
   "metadata": {},
   "outputs": [
    {
     "data": {
      "text/plain": [
       "\"['crime', 'drama', 'thriller']\""
      ]
     },
     "execution_count": 7,
     "metadata": {},
     "output_type": "execute_result"
    }
   ],
   "source": [
    "# Notice that genres are lists trapped inside a string\n",
    "df.iloc[1]['genres']"
   ]
  },
  {
   "cell_type": "code",
   "execution_count": 8,
   "metadata": {},
   "outputs": [
    {
     "data": {
      "text/plain": [
       "['crime', 'drama', 'thriller']"
      ]
     },
     "execution_count": 8,
     "metadata": {},
     "output_type": "execute_result"
    }
   ],
   "source": [
    "# De-stringify the genres list scraped from IMDB\n",
    "df['genres'] = df.genres.apply(lambda x: ast.literal_eval(x))\n",
    "df.iloc[1]['genres']"
   ]
  },
  {
   "cell_type": "code",
   "execution_count": 9,
   "metadata": {},
   "outputs": [
    {
     "data": {
      "text/html": [
       "<div>\n",
       "<style scoped>\n",
       "    .dataframe tbody tr th:only-of-type {\n",
       "        vertical-align: middle;\n",
       "    }\n",
       "\n",
       "    .dataframe tbody tr th {\n",
       "        vertical-align: top;\n",
       "    }\n",
       "\n",
       "    .dataframe thead th {\n",
       "        text-align: right;\n",
       "    }\n",
       "</style>\n",
       "<table border=\"1\" class=\"dataframe\">\n",
       "  <thead>\n",
       "    <tr style=\"text-align: right;\">\n",
       "      <th></th>\n",
       "      <th>action</th>\n",
       "      <th>adventure</th>\n",
       "      <th>animation</th>\n",
       "      <th>biography</th>\n",
       "      <th>comedy</th>\n",
       "      <th>crime</th>\n",
       "      <th>documentary</th>\n",
       "      <th>drama</th>\n",
       "      <th>family</th>\n",
       "      <th>fantasy</th>\n",
       "      <th>...</th>\n",
       "      <th>news</th>\n",
       "      <th>reality-tv</th>\n",
       "      <th>romance</th>\n",
       "      <th>sci-fi</th>\n",
       "      <th>short</th>\n",
       "      <th>sport</th>\n",
       "      <th>talk-show</th>\n",
       "      <th>thriller</th>\n",
       "      <th>war</th>\n",
       "      <th>western</th>\n",
       "    </tr>\n",
       "  </thead>\n",
       "  <tbody>\n",
       "    <tr>\n",
       "      <th>0</th>\n",
       "      <td>1</td>\n",
       "      <td>0</td>\n",
       "      <td>0</td>\n",
       "      <td>0</td>\n",
       "      <td>0</td>\n",
       "      <td>1</td>\n",
       "      <td>0</td>\n",
       "      <td>0</td>\n",
       "      <td>0</td>\n",
       "      <td>0</td>\n",
       "      <td>...</td>\n",
       "      <td>0</td>\n",
       "      <td>0</td>\n",
       "      <td>0</td>\n",
       "      <td>0</td>\n",
       "      <td>0</td>\n",
       "      <td>0</td>\n",
       "      <td>0</td>\n",
       "      <td>1</td>\n",
       "      <td>0</td>\n",
       "      <td>0</td>\n",
       "    </tr>\n",
       "    <tr>\n",
       "      <th>1</th>\n",
       "      <td>0</td>\n",
       "      <td>0</td>\n",
       "      <td>0</td>\n",
       "      <td>0</td>\n",
       "      <td>0</td>\n",
       "      <td>1</td>\n",
       "      <td>0</td>\n",
       "      <td>1</td>\n",
       "      <td>0</td>\n",
       "      <td>0</td>\n",
       "      <td>...</td>\n",
       "      <td>0</td>\n",
       "      <td>0</td>\n",
       "      <td>0</td>\n",
       "      <td>0</td>\n",
       "      <td>0</td>\n",
       "      <td>0</td>\n",
       "      <td>0</td>\n",
       "      <td>1</td>\n",
       "      <td>0</td>\n",
       "      <td>0</td>\n",
       "    </tr>\n",
       "    <tr>\n",
       "      <th>2</th>\n",
       "      <td>0</td>\n",
       "      <td>0</td>\n",
       "      <td>0</td>\n",
       "      <td>0</td>\n",
       "      <td>0</td>\n",
       "      <td>1</td>\n",
       "      <td>1</td>\n",
       "      <td>0</td>\n",
       "      <td>0</td>\n",
       "      <td>0</td>\n",
       "      <td>...</td>\n",
       "      <td>0</td>\n",
       "      <td>0</td>\n",
       "      <td>0</td>\n",
       "      <td>0</td>\n",
       "      <td>0</td>\n",
       "      <td>0</td>\n",
       "      <td>0</td>\n",
       "      <td>0</td>\n",
       "      <td>0</td>\n",
       "      <td>0</td>\n",
       "    </tr>\n",
       "    <tr>\n",
       "      <th>3</th>\n",
       "      <td>0</td>\n",
       "      <td>0</td>\n",
       "      <td>0</td>\n",
       "      <td>0</td>\n",
       "      <td>0</td>\n",
       "      <td>0</td>\n",
       "      <td>0</td>\n",
       "      <td>1</td>\n",
       "      <td>0</td>\n",
       "      <td>0</td>\n",
       "      <td>...</td>\n",
       "      <td>0</td>\n",
       "      <td>0</td>\n",
       "      <td>0</td>\n",
       "      <td>1</td>\n",
       "      <td>0</td>\n",
       "      <td>0</td>\n",
       "      <td>0</td>\n",
       "      <td>0</td>\n",
       "      <td>0</td>\n",
       "      <td>1</td>\n",
       "    </tr>\n",
       "    <tr>\n",
       "      <th>4</th>\n",
       "      <td>0</td>\n",
       "      <td>0</td>\n",
       "      <td>0</td>\n",
       "      <td>0</td>\n",
       "      <td>0</td>\n",
       "      <td>0</td>\n",
       "      <td>0</td>\n",
       "      <td>1</td>\n",
       "      <td>0</td>\n",
       "      <td>0</td>\n",
       "      <td>...</td>\n",
       "      <td>0</td>\n",
       "      <td>0</td>\n",
       "      <td>0</td>\n",
       "      <td>0</td>\n",
       "      <td>0</td>\n",
       "      <td>0</td>\n",
       "      <td>0</td>\n",
       "      <td>1</td>\n",
       "      <td>0</td>\n",
       "      <td>0</td>\n",
       "    </tr>\n",
       "    <tr>\n",
       "      <th>...</th>\n",
       "      <td>...</td>\n",
       "      <td>...</td>\n",
       "      <td>...</td>\n",
       "      <td>...</td>\n",
       "      <td>...</td>\n",
       "      <td>...</td>\n",
       "      <td>...</td>\n",
       "      <td>...</td>\n",
       "      <td>...</td>\n",
       "      <td>...</td>\n",
       "      <td>...</td>\n",
       "      <td>...</td>\n",
       "      <td>...</td>\n",
       "      <td>...</td>\n",
       "      <td>...</td>\n",
       "      <td>...</td>\n",
       "      <td>...</td>\n",
       "      <td>...</td>\n",
       "      <td>...</td>\n",
       "      <td>...</td>\n",
       "      <td>...</td>\n",
       "    </tr>\n",
       "    <tr>\n",
       "      <th>242</th>\n",
       "      <td>1</td>\n",
       "      <td>0</td>\n",
       "      <td>1</td>\n",
       "      <td>0</td>\n",
       "      <td>0</td>\n",
       "      <td>0</td>\n",
       "      <td>0</td>\n",
       "      <td>0</td>\n",
       "      <td>1</td>\n",
       "      <td>0</td>\n",
       "      <td>...</td>\n",
       "      <td>0</td>\n",
       "      <td>0</td>\n",
       "      <td>0</td>\n",
       "      <td>1</td>\n",
       "      <td>0</td>\n",
       "      <td>0</td>\n",
       "      <td>0</td>\n",
       "      <td>1</td>\n",
       "      <td>0</td>\n",
       "      <td>0</td>\n",
       "    </tr>\n",
       "    <tr>\n",
       "      <th>243</th>\n",
       "      <td>0</td>\n",
       "      <td>0</td>\n",
       "      <td>1</td>\n",
       "      <td>0</td>\n",
       "      <td>1</td>\n",
       "      <td>0</td>\n",
       "      <td>0</td>\n",
       "      <td>0</td>\n",
       "      <td>0</td>\n",
       "      <td>0</td>\n",
       "      <td>...</td>\n",
       "      <td>0</td>\n",
       "      <td>0</td>\n",
       "      <td>0</td>\n",
       "      <td>1</td>\n",
       "      <td>0</td>\n",
       "      <td>0</td>\n",
       "      <td>0</td>\n",
       "      <td>0</td>\n",
       "      <td>0</td>\n",
       "      <td>0</td>\n",
       "    </tr>\n",
       "    <tr>\n",
       "      <th>244</th>\n",
       "      <td>0</td>\n",
       "      <td>0</td>\n",
       "      <td>0</td>\n",
       "      <td>0</td>\n",
       "      <td>0</td>\n",
       "      <td>1</td>\n",
       "      <td>0</td>\n",
       "      <td>1</td>\n",
       "      <td>0</td>\n",
       "      <td>0</td>\n",
       "      <td>...</td>\n",
       "      <td>0</td>\n",
       "      <td>0</td>\n",
       "      <td>0</td>\n",
       "      <td>0</td>\n",
       "      <td>0</td>\n",
       "      <td>0</td>\n",
       "      <td>0</td>\n",
       "      <td>1</td>\n",
       "      <td>0</td>\n",
       "      <td>0</td>\n",
       "    </tr>\n",
       "    <tr>\n",
       "      <th>245</th>\n",
       "      <td>0</td>\n",
       "      <td>0</td>\n",
       "      <td>0</td>\n",
       "      <td>1</td>\n",
       "      <td>0</td>\n",
       "      <td>1</td>\n",
       "      <td>0</td>\n",
       "      <td>1</td>\n",
       "      <td>0</td>\n",
       "      <td>0</td>\n",
       "      <td>...</td>\n",
       "      <td>0</td>\n",
       "      <td>0</td>\n",
       "      <td>0</td>\n",
       "      <td>0</td>\n",
       "      <td>0</td>\n",
       "      <td>0</td>\n",
       "      <td>0</td>\n",
       "      <td>0</td>\n",
       "      <td>0</td>\n",
       "      <td>0</td>\n",
       "    </tr>\n",
       "    <tr>\n",
       "      <th>246</th>\n",
       "      <td>0</td>\n",
       "      <td>0</td>\n",
       "      <td>0</td>\n",
       "      <td>0</td>\n",
       "      <td>0</td>\n",
       "      <td>1</td>\n",
       "      <td>0</td>\n",
       "      <td>1</td>\n",
       "      <td>0</td>\n",
       "      <td>0</td>\n",
       "      <td>...</td>\n",
       "      <td>0</td>\n",
       "      <td>0</td>\n",
       "      <td>0</td>\n",
       "      <td>0</td>\n",
       "      <td>0</td>\n",
       "      <td>0</td>\n",
       "      <td>0</td>\n",
       "      <td>0</td>\n",
       "      <td>0</td>\n",
       "      <td>0</td>\n",
       "    </tr>\n",
       "  </tbody>\n",
       "</table>\n",
       "<p>247 rows × 26 columns</p>\n",
       "</div>"
      ],
      "text/plain": [
       "     action  adventure  animation  biography  comedy  crime  documentary  \\\n",
       "0         1          0          0          0       0      1            0   \n",
       "1         0          0          0          0       0      1            0   \n",
       "2         0          0          0          0       0      1            1   \n",
       "3         0          0          0          0       0      0            0   \n",
       "4         0          0          0          0       0      0            0   \n",
       "..      ...        ...        ...        ...     ...    ...          ...   \n",
       "242       1          0          1          0       0      0            0   \n",
       "243       0          0          1          0       1      0            0   \n",
       "244       0          0          0          0       0      1            0   \n",
       "245       0          0          0          1       0      1            0   \n",
       "246       0          0          0          0       0      1            0   \n",
       "\n",
       "     drama  family  fantasy  ...  news  reality-tv  romance  sci-fi  short  \\\n",
       "0        0       0        0  ...     0           0        0       0      0   \n",
       "1        1       0        0  ...     0           0        0       0      0   \n",
       "2        0       0        0  ...     0           0        0       0      0   \n",
       "3        1       0        0  ...     0           0        0       1      0   \n",
       "4        1       0        0  ...     0           0        0       0      0   \n",
       "..     ...     ...      ...  ...   ...         ...      ...     ...    ...   \n",
       "242      0       1        0  ...     0           0        0       1      0   \n",
       "243      0       0        0  ...     0           0        0       1      0   \n",
       "244      1       0        0  ...     0           0        0       0      0   \n",
       "245      1       0        0  ...     0           0        0       0      0   \n",
       "246      1       0        0  ...     0           0        0       0      0   \n",
       "\n",
       "     sport  talk-show  thriller  war  western  \n",
       "0        0          0         1    0        0  \n",
       "1        0          0         1    0        0  \n",
       "2        0          0         0    0        0  \n",
       "3        0          0         0    0        1  \n",
       "4        0          0         1    0        0  \n",
       "..     ...        ...       ...  ...      ...  \n",
       "242      0          0         1    0        0  \n",
       "243      0          0         0    0        0  \n",
       "244      0          0         1    0        0  \n",
       "245      0          0         0    0        0  \n",
       "246      0          0         0    0        0  \n",
       "\n",
       "[247 rows x 26 columns]"
      ]
     },
     "execution_count": 9,
     "metadata": {},
     "output_type": "execute_result"
    }
   ],
   "source": [
    "# Make a dataframe of dummy genre colums to get a count of each genre\n",
    "df_genres = pd.get_dummies(df['genres'].apply(pd.Series).stack()).sum(level=0)\n",
    "df_genres"
   ]
  },
  {
   "cell_type": "code",
   "execution_count": 11,
   "metadata": {},
   "outputs": [
    {
     "data": {
      "text/html": [
       "<div>\n",
       "<style scoped>\n",
       "    .dataframe tbody tr th:only-of-type {\n",
       "        vertical-align: middle;\n",
       "    }\n",
       "\n",
       "    .dataframe tbody tr th {\n",
       "        vertical-align: top;\n",
       "    }\n",
       "\n",
       "    .dataframe thead th {\n",
       "        text-align: right;\n",
       "    }\n",
       "</style>\n",
       "<table border=\"1\" class=\"dataframe\">\n",
       "  <thead>\n",
       "    <tr style=\"text-align: right;\">\n",
       "      <th></th>\n",
       "      <th>title</th>\n",
       "      <th>network</th>\n",
       "      <th>imdb_rating</th>\n",
       "      <th>num_imdb_ratings</th>\n",
       "      <th>rt_critic_rating</th>\n",
       "      <th>genres</th>\n",
       "      <th>tv_rating</th>\n",
       "      <th>release_year</th>\n",
       "      <th>runtime_mins</th>\n",
       "      <th>imdb_url</th>\n",
       "      <th>...</th>\n",
       "      <th>news</th>\n",
       "      <th>reality-tv</th>\n",
       "      <th>romance</th>\n",
       "      <th>sci-fi</th>\n",
       "      <th>short</th>\n",
       "      <th>sport</th>\n",
       "      <th>talk-show</th>\n",
       "      <th>thriller</th>\n",
       "      <th>war</th>\n",
       "      <th>western</th>\n",
       "    </tr>\n",
       "  </thead>\n",
       "  <tbody>\n",
       "    <tr>\n",
       "      <th>0</th>\n",
       "      <td>La Casa de Papel</td>\n",
       "      <td>Netflix</td>\n",
       "      <td>8.5</td>\n",
       "      <td>215007</td>\n",
       "      <td>91</td>\n",
       "      <td>[action, crime, mystery, thriller]</td>\n",
       "      <td>TV-MA</td>\n",
       "      <td>2017</td>\n",
       "      <td>70</td>\n",
       "      <td>https://www.imdb.com/title/tt6468322/</td>\n",
       "      <td>...</td>\n",
       "      <td>0</td>\n",
       "      <td>0</td>\n",
       "      <td>0</td>\n",
       "      <td>0</td>\n",
       "      <td>0</td>\n",
       "      <td>0</td>\n",
       "      <td>0</td>\n",
       "      <td>1</td>\n",
       "      <td>0</td>\n",
       "      <td>0</td>\n",
       "    </tr>\n",
       "    <tr>\n",
       "      <th>1</th>\n",
       "      <td>Ozark</td>\n",
       "      <td>Netflix</td>\n",
       "      <td>8.4</td>\n",
       "      <td>136710</td>\n",
       "      <td>81</td>\n",
       "      <td>[crime, drama, thriller]</td>\n",
       "      <td>TV-MA</td>\n",
       "      <td>2017</td>\n",
       "      <td>60</td>\n",
       "      <td>https://www.imdb.com/title/tt5071412/</td>\n",
       "      <td>...</td>\n",
       "      <td>0</td>\n",
       "      <td>0</td>\n",
       "      <td>0</td>\n",
       "      <td>0</td>\n",
       "      <td>0</td>\n",
       "      <td>0</td>\n",
       "      <td>0</td>\n",
       "      <td>1</td>\n",
       "      <td>0</td>\n",
       "      <td>0</td>\n",
       "    </tr>\n",
       "    <tr>\n",
       "      <th>2</th>\n",
       "      <td>Tiger King</td>\n",
       "      <td>Netflix</td>\n",
       "      <td>7.8</td>\n",
       "      <td>33700</td>\n",
       "      <td>86</td>\n",
       "      <td>[documentary, crime]</td>\n",
       "      <td>TV-MA</td>\n",
       "      <td>2020</td>\n",
       "      <td>31</td>\n",
       "      <td>https://www.imdb.com/title/tt11823076/</td>\n",
       "      <td>...</td>\n",
       "      <td>0</td>\n",
       "      <td>0</td>\n",
       "      <td>0</td>\n",
       "      <td>0</td>\n",
       "      <td>0</td>\n",
       "      <td>0</td>\n",
       "      <td>0</td>\n",
       "      <td>0</td>\n",
       "      <td>0</td>\n",
       "      <td>0</td>\n",
       "    </tr>\n",
       "    <tr>\n",
       "      <th>3</th>\n",
       "      <td>Westworld</td>\n",
       "      <td>HBO</td>\n",
       "      <td>8.7</td>\n",
       "      <td>388252</td>\n",
       "      <td>85</td>\n",
       "      <td>[drama, mystery, sci-fi, western]</td>\n",
       "      <td>TV-MA</td>\n",
       "      <td>2016</td>\n",
       "      <td>62</td>\n",
       "      <td>https://www.imdb.com/title/tt0475784/</td>\n",
       "      <td>...</td>\n",
       "      <td>0</td>\n",
       "      <td>0</td>\n",
       "      <td>0</td>\n",
       "      <td>1</td>\n",
       "      <td>0</td>\n",
       "      <td>0</td>\n",
       "      <td>0</td>\n",
       "      <td>0</td>\n",
       "      <td>0</td>\n",
       "      <td>1</td>\n",
       "    </tr>\n",
       "    <tr>\n",
       "      <th>4</th>\n",
       "      <td>The Walking Dead</td>\n",
       "      <td>AMC</td>\n",
       "      <td>8.2</td>\n",
       "      <td>821809</td>\n",
       "      <td>81</td>\n",
       "      <td>[drama, horror, thriller]</td>\n",
       "      <td>TV-MA</td>\n",
       "      <td>2010</td>\n",
       "      <td>44</td>\n",
       "      <td>https://www.imdb.com/title/tt1520211/</td>\n",
       "      <td>...</td>\n",
       "      <td>0</td>\n",
       "      <td>0</td>\n",
       "      <td>0</td>\n",
       "      <td>0</td>\n",
       "      <td>0</td>\n",
       "      <td>0</td>\n",
       "      <td>0</td>\n",
       "      <td>1</td>\n",
       "      <td>0</td>\n",
       "      <td>0</td>\n",
       "    </tr>\n",
       "  </tbody>\n",
       "</table>\n",
       "<p>5 rows × 36 columns</p>\n",
       "</div>"
      ],
      "text/plain": [
       "              title  network  imdb_rating  num_imdb_ratings  rt_critic_rating  \\\n",
       "0  La Casa de Papel  Netflix          8.5            215007                91   \n",
       "1             Ozark  Netflix          8.4            136710                81   \n",
       "2        Tiger King  Netflix          7.8             33700                86   \n",
       "3         Westworld      HBO          8.7            388252                85   \n",
       "4  The Walking Dead      AMC          8.2            821809                81   \n",
       "\n",
       "                               genres tv_rating  release_year  runtime_mins  \\\n",
       "0  [action, crime, mystery, thriller]     TV-MA          2017            70   \n",
       "1            [crime, drama, thriller]     TV-MA          2017            60   \n",
       "2                [documentary, crime]     TV-MA          2020            31   \n",
       "3   [drama, mystery, sci-fi, western]     TV-MA          2016            62   \n",
       "4           [drama, horror, thriller]     TV-MA          2010            44   \n",
       "\n",
       "                                 imdb_url  ...  news  reality-tv  romance  \\\n",
       "0   https://www.imdb.com/title/tt6468322/  ...     0           0        0   \n",
       "1   https://www.imdb.com/title/tt5071412/  ...     0           0        0   \n",
       "2  https://www.imdb.com/title/tt11823076/  ...     0           0        0   \n",
       "3   https://www.imdb.com/title/tt0475784/  ...     0           0        0   \n",
       "4   https://www.imdb.com/title/tt1520211/  ...     0           0        0   \n",
       "\n",
       "   sci-fi  short  sport  talk-show  thriller  war  western  \n",
       "0       0      0      0          0         1    0        0  \n",
       "1       0      0      0          0         1    0        0  \n",
       "2       0      0      0          0         0    0        0  \n",
       "3       1      0      0          0         0    0        1  \n",
       "4       0      0      0          0         1    0        0  \n",
       "\n",
       "[5 rows x 36 columns]"
      ]
     },
     "execution_count": 11,
     "metadata": {},
     "output_type": "execute_result"
    }
   ],
   "source": [
    "# Merge dummies dataframe onto original dataframe\n",
    "df = pd.concat([df, df_genres], axis=1)\n",
    "# Take a peek\n",
    "df.head()"
   ]
  },
  {
   "cell_type": "code",
   "execution_count": 12,
   "metadata": {},
   "outputs": [],
   "source": [
    "# Remove outliers for the crucial numerical data\n",
    "\n",
    "# Calculate the z-scores of the numerical data\n",
    "z_scores = stats.zscore(df[['imdb_rating', 'num_imdb_ratings', 'rt_critic_rating', 'release_year']])\n",
    "# Turn those scores into all positive values, so we can easily separate\n",
    "abs_z_scores = np.abs(z_scores)\n",
    "# Filter out outliers (more than 3 standard deviations from the mean)\n",
    "filtered_entries = (abs_z_scores < 3).all(axis=1)\n",
    "# Update the dataframe\n",
    "df = df[filtered_entries]"
   ]
  },
  {
   "cell_type": "code",
   "execution_count": 13,
   "metadata": {},
   "outputs": [
    {
     "data": {
      "text/plain": [
       "(231, 36)"
      ]
     },
     "execution_count": 13,
     "metadata": {},
     "output_type": "execute_result"
    }
   ],
   "source": [
    "# See that 16 rows were eliminated\n",
    "df.shape"
   ]
  },
  {
   "cell_type": "code",
   "execution_count": 14,
   "metadata": {},
   "outputs": [],
   "source": [
    "# Save a copy for good measure :P\n",
    "df.to_csv('shows_imdb_rt_updated.csv')"
   ]
  },
  {
   "cell_type": "code",
   "execution_count": 131,
   "metadata": {},
   "outputs": [
    {
     "data": {
      "text/html": [
       "<div>\n",
       "<style scoped>\n",
       "    .dataframe tbody tr th:only-of-type {\n",
       "        vertical-align: middle;\n",
       "    }\n",
       "\n",
       "    .dataframe tbody tr th {\n",
       "        vertical-align: top;\n",
       "    }\n",
       "\n",
       "    .dataframe thead th {\n",
       "        text-align: right;\n",
       "    }\n",
       "</style>\n",
       "<table border=\"1\" class=\"dataframe\">\n",
       "  <thead>\n",
       "    <tr style=\"text-align: right;\">\n",
       "      <th></th>\n",
       "      <th>title</th>\n",
       "      <th>network</th>\n",
       "      <th>imdb_rating</th>\n",
       "      <th>num_imdb_ratings</th>\n",
       "      <th>rt_critic_rating</th>\n",
       "      <th>genres</th>\n",
       "      <th>tv_rating</th>\n",
       "      <th>release_year</th>\n",
       "      <th>runtime_mins</th>\n",
       "      <th>imdb_url</th>\n",
       "      <th>...</th>\n",
       "      <th>news</th>\n",
       "      <th>reality-tv</th>\n",
       "      <th>romance</th>\n",
       "      <th>sci-fi</th>\n",
       "      <th>short</th>\n",
       "      <th>sport</th>\n",
       "      <th>talk-show</th>\n",
       "      <th>thriller</th>\n",
       "      <th>war</th>\n",
       "      <th>western</th>\n",
       "    </tr>\n",
       "  </thead>\n",
       "  <tbody>\n",
       "    <tr>\n",
       "      <th>0</th>\n",
       "      <td>La Casa de Papel</td>\n",
       "      <td>Netflix</td>\n",
       "      <td>8.5</td>\n",
       "      <td>215007</td>\n",
       "      <td>91</td>\n",
       "      <td>[action, crime, mystery, thriller]</td>\n",
       "      <td>TV-MA</td>\n",
       "      <td>2017</td>\n",
       "      <td>70</td>\n",
       "      <td>https://www.imdb.com/title/tt6468322/</td>\n",
       "      <td>...</td>\n",
       "      <td>0</td>\n",
       "      <td>0</td>\n",
       "      <td>0</td>\n",
       "      <td>0</td>\n",
       "      <td>0</td>\n",
       "      <td>0</td>\n",
       "      <td>0</td>\n",
       "      <td>1</td>\n",
       "      <td>0</td>\n",
       "      <td>0</td>\n",
       "    </tr>\n",
       "    <tr>\n",
       "      <th>1</th>\n",
       "      <td>Ozark</td>\n",
       "      <td>Netflix</td>\n",
       "      <td>8.4</td>\n",
       "      <td>136710</td>\n",
       "      <td>81</td>\n",
       "      <td>[crime, drama, thriller]</td>\n",
       "      <td>TV-MA</td>\n",
       "      <td>2017</td>\n",
       "      <td>60</td>\n",
       "      <td>https://www.imdb.com/title/tt5071412/</td>\n",
       "      <td>...</td>\n",
       "      <td>0</td>\n",
       "      <td>0</td>\n",
       "      <td>0</td>\n",
       "      <td>0</td>\n",
       "      <td>0</td>\n",
       "      <td>0</td>\n",
       "      <td>0</td>\n",
       "      <td>1</td>\n",
       "      <td>0</td>\n",
       "      <td>0</td>\n",
       "    </tr>\n",
       "    <tr>\n",
       "      <th>2</th>\n",
       "      <td>Tiger King</td>\n",
       "      <td>Netflix</td>\n",
       "      <td>7.8</td>\n",
       "      <td>33700</td>\n",
       "      <td>86</td>\n",
       "      <td>[documentary, crime]</td>\n",
       "      <td>TV-MA</td>\n",
       "      <td>2020</td>\n",
       "      <td>31</td>\n",
       "      <td>https://www.imdb.com/title/tt11823076/</td>\n",
       "      <td>...</td>\n",
       "      <td>0</td>\n",
       "      <td>0</td>\n",
       "      <td>0</td>\n",
       "      <td>0</td>\n",
       "      <td>0</td>\n",
       "      <td>0</td>\n",
       "      <td>0</td>\n",
       "      <td>0</td>\n",
       "      <td>0</td>\n",
       "      <td>0</td>\n",
       "    </tr>\n",
       "    <tr>\n",
       "      <th>3</th>\n",
       "      <td>Westworld</td>\n",
       "      <td>HBO</td>\n",
       "      <td>8.7</td>\n",
       "      <td>388252</td>\n",
       "      <td>85</td>\n",
       "      <td>[drama, mystery, sci-fi, western]</td>\n",
       "      <td>TV-MA</td>\n",
       "      <td>2016</td>\n",
       "      <td>62</td>\n",
       "      <td>https://www.imdb.com/title/tt0475784/</td>\n",
       "      <td>...</td>\n",
       "      <td>0</td>\n",
       "      <td>0</td>\n",
       "      <td>0</td>\n",
       "      <td>1</td>\n",
       "      <td>0</td>\n",
       "      <td>0</td>\n",
       "      <td>0</td>\n",
       "      <td>0</td>\n",
       "      <td>0</td>\n",
       "      <td>1</td>\n",
       "    </tr>\n",
       "    <tr>\n",
       "      <th>6</th>\n",
       "      <td>Better Call Saul</td>\n",
       "      <td>AMC</td>\n",
       "      <td>8.7</td>\n",
       "      <td>280536</td>\n",
       "      <td>97</td>\n",
       "      <td>[crime, drama]</td>\n",
       "      <td>TV-MA</td>\n",
       "      <td>2015</td>\n",
       "      <td>46</td>\n",
       "      <td>https://www.imdb.com/title/tt3032476/</td>\n",
       "      <td>...</td>\n",
       "      <td>0</td>\n",
       "      <td>0</td>\n",
       "      <td>0</td>\n",
       "      <td>0</td>\n",
       "      <td>0</td>\n",
       "      <td>0</td>\n",
       "      <td>0</td>\n",
       "      <td>0</td>\n",
       "      <td>0</td>\n",
       "      <td>0</td>\n",
       "    </tr>\n",
       "  </tbody>\n",
       "</table>\n",
       "<p>5 rows × 36 columns</p>\n",
       "</div>"
      ],
      "text/plain": [
       "              title  network  imdb_rating  num_imdb_ratings  rt_critic_rating  \\\n",
       "0  La Casa de Papel  Netflix          8.5            215007                91   \n",
       "1             Ozark  Netflix          8.4            136710                81   \n",
       "2        Tiger King  Netflix          7.8             33700                86   \n",
       "3         Westworld      HBO          8.7            388252                85   \n",
       "6  Better Call Saul      AMC          8.7            280536                97   \n",
       "\n",
       "                               genres tv_rating  release_year  runtime_mins  \\\n",
       "0  [action, crime, mystery, thriller]     TV-MA          2017            70   \n",
       "1            [crime, drama, thriller]     TV-MA          2017            60   \n",
       "2                [documentary, crime]     TV-MA          2020            31   \n",
       "3   [drama, mystery, sci-fi, western]     TV-MA          2016            62   \n",
       "6                      [crime, drama]     TV-MA          2015            46   \n",
       "\n",
       "                                 imdb_url  ...  news  reality-tv  romance  \\\n",
       "0   https://www.imdb.com/title/tt6468322/  ...     0           0        0   \n",
       "1   https://www.imdb.com/title/tt5071412/  ...     0           0        0   \n",
       "2  https://www.imdb.com/title/tt11823076/  ...     0           0        0   \n",
       "3   https://www.imdb.com/title/tt0475784/  ...     0           0        0   \n",
       "6   https://www.imdb.com/title/tt3032476/  ...     0           0        0   \n",
       "\n",
       "   sci-fi  short  sport  talk-show  thriller  war  western  \n",
       "0       0      0      0          0         1    0        0  \n",
       "1       0      0      0          0         1    0        0  \n",
       "2       0      0      0          0         0    0        0  \n",
       "3       1      0      0          0         0    0        1  \n",
       "6       0      0      0          0         0    0        0  \n",
       "\n",
       "[5 rows x 36 columns]"
      ]
     },
     "execution_count": 131,
     "metadata": {},
     "output_type": "execute_result"
    }
   ],
   "source": [
    "# Set up a parameter to include only contemporary shows (released in the last decade)\n",
    "df_contemp = df[df['release_year'] >= 2010]\n",
    "df_contemp.head()"
   ]
  },
  {
   "cell_type": "code",
   "execution_count": 30,
   "metadata": {},
   "outputs": [
    {
     "data": {
      "text/plain": [
       "Index(['title', 'network', 'imdb_rating', 'num_imdb_ratings',\n",
       "       'rt_critic_rating', 'genres', 'tv_rating', 'release_year',\n",
       "       'runtime_mins', 'imdb_url', 'action', 'adventure', 'animation',\n",
       "       'biography', 'comedy', 'crime', 'documentary', 'drama', 'family',\n",
       "       'fantasy', 'game-show', 'history', 'horror', 'music', 'musical',\n",
       "       'mystery', 'news', 'reality-tv', 'romance', 'sci-fi', 'short', 'sport',\n",
       "       'talk-show', 'thriller', 'war', 'western'],\n",
       "      dtype='object')"
      ]
     },
     "execution_count": 30,
     "metadata": {},
     "output_type": "execute_result"
    }
   ],
   "source": [
    "df_contemp.columns"
   ]
  },
  {
   "cell_type": "code",
   "execution_count": 46,
   "metadata": {},
   "outputs": [
    {
     "data": {
      "text/plain": [
       "action         31\n",
       "adventure      21\n",
       "animation      15\n",
       "biography       6\n",
       "comedy         35\n",
       "crime          47\n",
       "documentary    14\n",
       "drama          97\n",
       "family          4\n",
       "fantasy        20\n",
       "game-show       0\n",
       "history        10\n",
       "horror         11\n",
       "music           2\n",
       "musical         1\n",
       "mystery        32\n",
       "news            1\n",
       "reality-tv      2\n",
       "romance        10\n",
       "sci-fi         27\n",
       "short           1\n",
       "sport           3\n",
       "talk-show       3\n",
       "thriller       42\n",
       "war             3\n",
       "western         2\n",
       "dtype: int64"
      ]
     },
     "execution_count": 46,
     "metadata": {},
     "output_type": "execute_result"
    }
   ],
   "source": [
    "genres_contemp = df_contemp[\n",
    "    ['action', 'adventure', 'animation',\n",
    "       'biography', 'comedy', 'crime', 'documentary', 'drama', 'family',\n",
    "       'fantasy', 'game-show', 'history', 'horror', 'music', 'musical',\n",
    "       'mystery', 'news', 'reality-tv', 'romance', 'sci-fi', 'short', 'sport',\n",
    "       'talk-show', 'thriller', 'war', 'western']\n",
    "    ]\n",
    "genres_contemp.sum()"
   ]
  },
  {
   "cell_type": "code",
   "execution_count": 47,
   "metadata": {},
   "outputs": [],
   "source": [
    "genres_contemp = genres_contemp[genres_contemp.columns[genres_contemp.sum() >= 10]]"
   ]
  },
  {
   "cell_type": "code",
   "execution_count": 48,
   "metadata": {},
   "outputs": [
    {
     "data": {
      "text/plain": [
       "action         31\n",
       "adventure      21\n",
       "animation      15\n",
       "comedy         35\n",
       "crime          47\n",
       "documentary    14\n",
       "drama          97\n",
       "fantasy        20\n",
       "history        10\n",
       "horror         11\n",
       "mystery        32\n",
       "romance        10\n",
       "sci-fi         27\n",
       "thriller       42\n",
       "dtype: int64"
      ]
     },
     "execution_count": 48,
     "metadata": {},
     "output_type": "execute_result"
    }
   ],
   "source": [
    "genres_contemp.sum()"
   ]
  },
  {
   "cell_type": "code",
   "execution_count": 49,
   "metadata": {},
   "outputs": [
    {
     "data": {
      "text/plain": [
       "<matplotlib.axes._subplots.AxesSubplot at 0x1216e6588>"
      ]
     },
     "execution_count": 49,
     "metadata": {},
     "output_type": "execute_result"
    },
    {
     "data": {
      "image/png": "[encoded data removed]",
      "text/plain": [
       "<Figure size 432x288 with 1 Axes>"
      ]
     },
     "metadata": {
      "needs_background": "dark"
     },
     "output_type": "display_data"
    }
   ],
   "source": [
    "genres_contemp.sum().sort_values(ascending=False).plot.bar()"
   ]
  },
  {
   "cell_type": "code",
   "execution_count": 50,
   "metadata": {},
   "outputs": [],
   "source": [
    "genres_contemp_imdb_rating = genres_contemp.apply(lambda x: x*df['imdb_rating'])\n",
    "genres_contemp_rt_rating = genres_contemp.apply(lambda x: x*df['rt_critic_rating'])\n",
    "genres_contemp_popularity = genres_contemp.apply(lambda x: x*df['num_imdb_ratings'])"
   ]
  },
  {
   "cell_type": "code",
   "execution_count": 70,
   "metadata": {},
   "outputs": [
    {
     "data": {
      "text/plain": [
       "action         8.348387\n",
       "adventure      8.385714\n",
       "animation      8.680000\n",
       "comedy         8.522857\n",
       "crime          8.331915\n",
       "documentary    8.771429\n",
       "drama          8.315464\n",
       "fantasy        8.390000\n",
       "history        8.700000\n",
       "horror         8.309091\n",
       "mystery        8.237500\n",
       "romance        8.490000\n",
       "sci-fi         8.377778\n",
       "thriller       8.366667\n",
       "dtype: float64"
      ]
     },
     "execution_count": 70,
     "metadata": {},
     "output_type": "execute_result"
    }
   ],
   "source": [
    "genre_imdb_avg = genres_contemp_imdb_rating.sum()/genres_contemp.sum()\n",
    "genre_imdb_avg"
   ]
  },
  {
   "cell_type": "code",
   "execution_count": 71,
   "metadata": {},
   "outputs": [
    {
     "data": {
      "text/plain": [
       "(8.0, 9.0)"
      ]
     },
     "execution_count": 71,
     "metadata": {},
     "output_type": "execute_result"
    },
    {
     "data": {
      "image/png": "[encoded data removed]",
      "text/plain": [
       "<Figure size 432x288 with 1 Axes>"
      ]
     },
     "metadata": {
      "needs_background": "dark"
     },
     "output_type": "display_data"
    }
   ],
   "source": [
    "genre_imdb_avg.plot.bar()\n",
    "plt.ylim(8.0,9.0)"
   ]
  },
  {
   "cell_type": "code",
   "execution_count": 64,
   "metadata": {},
   "outputs": [
    {
     "data": {
      "text/plain": [
       "action         87.096774\n",
       "adventure      86.904762\n",
       "animation      95.200000\n",
       "comedy         92.200000\n",
       "crime          88.829787\n",
       "documentary    91.785714\n",
       "drama          86.979381\n",
       "fantasy        89.700000\n",
       "history        87.800000\n",
       "horror         85.454545\n",
       "mystery        87.312500\n",
       "romance        86.400000\n",
       "sci-fi         89.962963\n",
       "thriller       88.738095\n",
       "dtype: float64"
      ]
     },
     "execution_count": 64,
     "metadata": {},
     "output_type": "execute_result"
    }
   ],
   "source": [
    "genre_rt_avg = genres_contemp_rt_rating.sum()/genres_contemp.sum()\n",
    "genre_rt_avg"
   ]
  },
  {
   "cell_type": "code",
   "execution_count": 68,
   "metadata": {},
   "outputs": [
    {
     "data": {
      "text/plain": [
       "(82.0, 96.0)"
      ]
     },
     "execution_count": 68,
     "metadata": {},
     "output_type": "execute_result"
    },
    {
     "data": {
      "image/png": "[encoded data removed]",
      "text/plain": [
       "<Figure size 432x288 with 1 Axes>"
      ]
     },
     "metadata": {
      "needs_background": "dark"
     },
     "output_type": "display_data"
    }
   ],
   "source": [
    "genre_rt_avg.plot.bar()\n",
    "plt.ylim(82,96)"
   ]
  },
  {
   "cell_type": "code",
   "execution_count": 65,
   "metadata": {},
   "outputs": [
    {
     "data": {
      "text/plain": [
       "action         118855.354839\n",
       "adventure      135932.523810\n",
       "animation       72380.466667\n",
       "comedy          72374.714286\n",
       "crime          133846.872340\n",
       "documentary     28096.714286\n",
       "drama          123349.989691\n",
       "fantasy         80133.650000\n",
       "history        158686.600000\n",
       "horror         107080.909091\n",
       "mystery        123911.781250\n",
       "romance        128249.800000\n",
       "sci-fi         137409.000000\n",
       "thriller       142652.380952\n",
       "dtype: float64"
      ]
     },
     "execution_count": 65,
     "metadata": {},
     "output_type": "execute_result"
    }
   ],
   "source": [
    "genre_pop_avg = genres_contemp_popularity.sum()/genres_contemp.sum()\n",
    "genre_pop_avg"
   ]
  },
  {
   "cell_type": "code",
   "execution_count": 67,
   "metadata": {},
   "outputs": [
    {
     "data": {
      "text/plain": [
       "<matplotlib.axes._subplots.AxesSubplot at 0x121ffaf60>"
      ]
     },
     "execution_count": 67,
     "metadata": {},
     "output_type": "execute_result"
    },
    {
     "data": {
      "image/png": "[encoded data removed]",
      "text/plain": [
       "<Figure size 432x288 with 1 Axes>"
      ]
     },
     "metadata": {
      "needs_background": "dark"
     },
     "output_type": "display_data"
    }
   ],
   "source": [
    "genre_pop_avg.plot.bar()"
   ]
  },
  {
   "cell_type": "code",
   "execution_count": 74,
   "metadata": {},
   "outputs": [
    {
     "data": {
      "text/plain": [
       "Index(['action', 'adventure', 'animation', 'comedy', 'crime', 'documentary',\n",
       "       'drama', 'fantasy', 'history', 'horror', 'mystery', 'romance', 'sci-fi',\n",
       "       'thriller'],\n",
       "      dtype='object')"
      ]
     },
     "execution_count": 74,
     "metadata": {},
     "output_type": "execute_result"
    }
   ],
   "source": [
    "genres_contemp.columns"
   ]
  },
  {
   "cell_type": "code",
   "execution_count": 203,
   "metadata": {},
   "outputs": [
    {
     "data": {
      "text/plain": [
       "(array([63., 23., 15., 11.,  5.,  4.,  6.,  2.,  4.,  3.]),\n",
       " array([  1430. ,  48429.8,  95429.6, 142429.4, 189429.2, 236429. ,\n",
       "        283428.8, 330428.6, 377428.4, 424428.2, 471428. ]),\n",
       " <a list of 10 Patch objects>)"
      ]
     },
     "execution_count": 203,
     "metadata": {},
     "output_type": "execute_result"
    },
    {
     "data": {
      "image/png": "[encoded data removed]",
      "text/plain": [
       "<Figure size 432x288 with 1 Axes>"
      ]
     },
     "metadata": {
      "needs_background": "dark"
     },
     "output_type": "display_data"
    }
   ],
   "source": [
    "plt.hist(df_contemp['num_imdb_ratings'], bins=10)"
   ]
  },
  {
   "cell_type": "code",
   "execution_count": 204,
   "metadata": {},
   "outputs": [
    {
     "data": {
      "text/plain": [
       "(array([ 5.,  1.,  5.,  3.,  6.,  8., 17., 18., 39., 34.]),\n",
       " array([ 57. ,  61.3,  65.6,  69.9,  74.2,  78.5,  82.8,  87.1,  91.4,\n",
       "         95.7, 100. ]),\n",
       " <a list of 10 Patch objects>)"
      ]
     },
     "execution_count": 204,
     "metadata": {},
     "output_type": "execute_result"
    },
    {
     "data": {
      "image/png": "[encoded data removed]",
      "text/plain": [
       "<Figure size 432x288 with 1 Axes>"
      ]
     },
     "metadata": {
      "needs_background": "dark"
     },
     "output_type": "display_data"
    }
   ],
   "source": [
    "plt.hist(df_contemp['rt_critic_rating'], bins=10)"
   ]
  },
  {
   "cell_type": "code",
   "execution_count": 205,
   "metadata": {},
   "outputs": [
    {
     "data": {
      "text/plain": [
       "(array([ 5.,  8.,  6., 13.,  8., 45., 40.,  5.,  2.,  4.]),\n",
       " array([7.2 , 7.43, 7.66, 7.89, 8.12, 8.35, 8.58, 8.81, 9.04, 9.27, 9.5 ]),\n",
       " <a list of 10 Patch objects>)"
      ]
     },
     "execution_count": 205,
     "metadata": {},
     "output_type": "execute_result"
    },
    {
     "data": {
      "image/png": "[encoded data removed]",
      "text/plain": [
       "<Figure size 432x288 with 1 Axes>"
      ]
     },
     "metadata": {
      "needs_background": "dark"
     },
     "output_type": "display_data"
    }
   ],
   "source": [
    "plt.hist(df_contemp['imdb_rating'], bins=10)"
   ]
  },
  {
   "cell_type": "code",
   "execution_count": null,
   "metadata": {},
   "outputs": [],
   "source": []
  },
  {
   "cell_type": "code",
   "execution_count": 196,
   "metadata": {},
   "outputs": [
    {
     "data": {
      "text/plain": [
       "(array([1., 0., 0., 3., 0., 0., 2., 3., 4., 1.]),\n",
       " array([ 28096.71428571,  41155.70285714,  54214.69142857,  67273.68      ,\n",
       "         80332.66857143,  93391.65714286, 106450.64571429, 119509.63428571,\n",
       "        132568.62285714, 145627.61142857, 158686.6       ]),\n",
       " <a list of 10 Patch objects>)"
      ]
     },
     "execution_count": 196,
     "metadata": {},
     "output_type": "execute_result"
    },
    {
     "data": {
      "image/png": "[encoded data removed]",
      "text/plain": [
       "<Figure size 432x288 with 1 Axes>"
      ]
     },
     "metadata": {
      "needs_background": "dark"
     },
     "output_type": "display_data"
    }
   ],
   "source": [
    "plt.hist(genre_pop_avg, bins=10)"
   ]
  },
  {
   "cell_type": "code",
   "execution_count": 113,
   "metadata": {},
   "outputs": [
    {
     "data": {
      "image/png": "[encoded data removed]",
      "text/plain": [
       "<Figure size 576x1080 with 3 Axes>"
      ]
     },
     "metadata": {
      "needs_background": "dark"
     },
     "output_type": "display_data"
    }
   ],
   "source": [
    "x = genres_contemp.columns\n",
    "y1 = genre_imdb_avg\n",
    "y2 = genre_rt_avg\n",
    "y3 = genre_pop_avg\n",
    "\n",
    "fig, axs = plt.subplots(3,sharex=True,figsize=(8,15))\n",
    "fig.suptitle('Comparing Ratings with Popularity', fontsize=20, y=1.01)\n",
    "\n",
    "axs[0].bar(x,y1)\n",
    "axs[0].set_ylim([8.0,9.0])\n",
    "axs[0].set_title('IMDB Ratings Average by Genre', fontsize=14)\n",
    "\n",
    "axs[1].bar(x,y2)\n",
    "axs[1].set_ylim([83,97])\n",
    "axs[1].set_title('RT Ratings Average by Genre', fontsize=14)\n",
    "\n",
    "axs[2].bar(x,y3)\n",
    "axs[2].set_title('Popularity Average by Genre', fontsize=14)\n",
    "\n",
    "plt.xticks(rotation='vertical', fontsize=15)\n",
    "fig.tight_layout(pad=3.0)"
   ]
  },
  {
   "cell_type": "code",
   "execution_count": 111,
   "metadata": {},
   "outputs": [
    {
     "data": {
      "text/plain": [
       "-0.4877942302531624"
      ]
     },
     "execution_count": 111,
     "metadata": {},
     "output_type": "execute_result"
    }
   ],
   "source": [
    "genre_pop_avg.corr(genre_imdb_avg)"
   ]
  },
  {
   "cell_type": "code",
   "execution_count": 152,
   "metadata": {},
   "outputs": [
    {
     "data": {
      "text/html": [
       "<div>\n",
       "<style scoped>\n",
       "    .dataframe tbody tr th:only-of-type {\n",
       "        vertical-align: middle;\n",
       "    }\n",
       "\n",
       "    .dataframe tbody tr th {\n",
       "        vertical-align: top;\n",
       "    }\n",
       "\n",
       "    .dataframe thead th {\n",
       "        text-align: right;\n",
       "    }\n",
       "</style>\n",
       "<table border=\"1\" class=\"dataframe\">\n",
       "  <thead>\n",
       "    <tr style=\"text-align: right;\">\n",
       "      <th></th>\n",
       "      <th>title</th>\n",
       "      <th>network</th>\n",
       "      <th>imdb_rating</th>\n",
       "      <th>num_imdb_ratings</th>\n",
       "      <th>rt_critic_rating</th>\n",
       "      <th>genres</th>\n",
       "      <th>tv_rating</th>\n",
       "      <th>release_year</th>\n",
       "      <th>runtime_mins</th>\n",
       "      <th>imdb_url</th>\n",
       "      <th>...</th>\n",
       "      <th>news</th>\n",
       "      <th>reality-tv</th>\n",
       "      <th>romance</th>\n",
       "      <th>sci-fi</th>\n",
       "      <th>short</th>\n",
       "      <th>sport</th>\n",
       "      <th>talk-show</th>\n",
       "      <th>thriller</th>\n",
       "      <th>war</th>\n",
       "      <th>western</th>\n",
       "    </tr>\n",
       "  </thead>\n",
       "  <tbody>\n",
       "    <tr>\n",
       "      <th>0</th>\n",
       "      <td>La Casa de Papel</td>\n",
       "      <td>Netflix</td>\n",
       "      <td>8.5</td>\n",
       "      <td>215007</td>\n",
       "      <td>91</td>\n",
       "      <td>[action, crime, mystery, thriller]</td>\n",
       "      <td>TV-MA</td>\n",
       "      <td>2017</td>\n",
       "      <td>70</td>\n",
       "      <td>https://www.imdb.com/title/tt6468322/</td>\n",
       "      <td>...</td>\n",
       "      <td>0</td>\n",
       "      <td>0</td>\n",
       "      <td>0</td>\n",
       "      <td>0</td>\n",
       "      <td>0</td>\n",
       "      <td>0</td>\n",
       "      <td>0</td>\n",
       "      <td>1</td>\n",
       "      <td>0</td>\n",
       "      <td>0</td>\n",
       "    </tr>\n",
       "    <tr>\n",
       "      <th>1</th>\n",
       "      <td>Ozark</td>\n",
       "      <td>Netflix</td>\n",
       "      <td>8.4</td>\n",
       "      <td>136710</td>\n",
       "      <td>81</td>\n",
       "      <td>[crime, drama, thriller]</td>\n",
       "      <td>TV-MA</td>\n",
       "      <td>2017</td>\n",
       "      <td>60</td>\n",
       "      <td>https://www.imdb.com/title/tt5071412/</td>\n",
       "      <td>...</td>\n",
       "      <td>0</td>\n",
       "      <td>0</td>\n",
       "      <td>0</td>\n",
       "      <td>0</td>\n",
       "      <td>0</td>\n",
       "      <td>0</td>\n",
       "      <td>0</td>\n",
       "      <td>1</td>\n",
       "      <td>0</td>\n",
       "      <td>0</td>\n",
       "    </tr>\n",
       "    <tr>\n",
       "      <th>2</th>\n",
       "      <td>Tiger King</td>\n",
       "      <td>Netflix</td>\n",
       "      <td>7.8</td>\n",
       "      <td>33700</td>\n",
       "      <td>86</td>\n",
       "      <td>[documentary, crime]</td>\n",
       "      <td>TV-MA</td>\n",
       "      <td>2020</td>\n",
       "      <td>31</td>\n",
       "      <td>https://www.imdb.com/title/tt11823076/</td>\n",
       "      <td>...</td>\n",
       "      <td>0</td>\n",
       "      <td>0</td>\n",
       "      <td>0</td>\n",
       "      <td>0</td>\n",
       "      <td>0</td>\n",
       "      <td>0</td>\n",
       "      <td>0</td>\n",
       "      <td>0</td>\n",
       "      <td>0</td>\n",
       "      <td>0</td>\n",
       "    </tr>\n",
       "    <tr>\n",
       "      <th>3</th>\n",
       "      <td>Westworld</td>\n",
       "      <td>HBO</td>\n",
       "      <td>8.7</td>\n",
       "      <td>388252</td>\n",
       "      <td>85</td>\n",
       "      <td>[drama, mystery, sci-fi, western]</td>\n",
       "      <td>TV-MA</td>\n",
       "      <td>2016</td>\n",
       "      <td>62</td>\n",
       "      <td>https://www.imdb.com/title/tt0475784/</td>\n",
       "      <td>...</td>\n",
       "      <td>0</td>\n",
       "      <td>0</td>\n",
       "      <td>0</td>\n",
       "      <td>1</td>\n",
       "      <td>0</td>\n",
       "      <td>0</td>\n",
       "      <td>0</td>\n",
       "      <td>0</td>\n",
       "      <td>0</td>\n",
       "      <td>1</td>\n",
       "    </tr>\n",
       "    <tr>\n",
       "      <th>6</th>\n",
       "      <td>Better Call Saul</td>\n",
       "      <td>AMC</td>\n",
       "      <td>8.7</td>\n",
       "      <td>280536</td>\n",
       "      <td>97</td>\n",
       "      <td>[crime, drama]</td>\n",
       "      <td>TV-MA</td>\n",
       "      <td>2015</td>\n",
       "      <td>46</td>\n",
       "      <td>https://www.imdb.com/title/tt3032476/</td>\n",
       "      <td>...</td>\n",
       "      <td>0</td>\n",
       "      <td>0</td>\n",
       "      <td>0</td>\n",
       "      <td>0</td>\n",
       "      <td>0</td>\n",
       "      <td>0</td>\n",
       "      <td>0</td>\n",
       "      <td>0</td>\n",
       "      <td>0</td>\n",
       "      <td>0</td>\n",
       "    </tr>\n",
       "  </tbody>\n",
       "</table>\n",
       "<p>5 rows × 36 columns</p>\n",
       "</div>"
      ],
      "text/plain": [
       "              title  network  imdb_rating  num_imdb_ratings  rt_critic_rating  \\\n",
       "0  La Casa de Papel  Netflix          8.5            215007                91   \n",
       "1             Ozark  Netflix          8.4            136710                81   \n",
       "2        Tiger King  Netflix          7.8             33700                86   \n",
       "3         Westworld      HBO          8.7            388252                85   \n",
       "6  Better Call Saul      AMC          8.7            280536                97   \n",
       "\n",
       "                               genres tv_rating  release_year  runtime_mins  \\\n",
       "0  [action, crime, mystery, thriller]     TV-MA          2017            70   \n",
       "1            [crime, drama, thriller]     TV-MA          2017            60   \n",
       "2                [documentary, crime]     TV-MA          2020            31   \n",
       "3   [drama, mystery, sci-fi, western]     TV-MA          2016            62   \n",
       "6                      [crime, drama]     TV-MA          2015            46   \n",
       "\n",
       "                                 imdb_url  ...  news  reality-tv  romance  \\\n",
       "0   https://www.imdb.com/title/tt6468322/  ...     0           0        0   \n",
       "1   https://www.imdb.com/title/tt5071412/  ...     0           0        0   \n",
       "2  https://www.imdb.com/title/tt11823076/  ...     0           0        0   \n",
       "3   https://www.imdb.com/title/tt0475784/  ...     0           0        0   \n",
       "6   https://www.imdb.com/title/tt3032476/  ...     0           0        0   \n",
       "\n",
       "   sci-fi  short  sport  talk-show  thriller  war  western  \n",
       "0       0      0      0          0         1    0        0  \n",
       "1       0      0      0          0         1    0        0  \n",
       "2       0      0      0          0         0    0        0  \n",
       "3       1      0      0          0         0    0        1  \n",
       "6       0      0      0          0         0    0        0  \n",
       "\n",
       "[5 rows x 36 columns]"
      ]
     },
     "execution_count": 152,
     "metadata": {},
     "output_type": "execute_result"
    }
   ],
   "source": [
    "df_contemp = df[df['release_year'] >= 2010]\n",
    "df_contemp.head()"
   ]
  },
  {
   "cell_type": "code",
   "execution_count": 189,
   "metadata": {},
   "outputs": [
    {
     "name": "stderr",
     "output_type": "stream",
     "text": [
      "/opt/anaconda3/envs/learn-env/lib/python3.6/site-packages/ipykernel_launcher.py:23: SettingWithCopyWarning: \n",
      "A value is trying to be set on a copy of a slice from a DataFrame.\n",
      "Try using .loc[row_indexer,col_indexer] = value instead\n",
      "\n",
      "See the caveats in the documentation: https://pandas.pydata.org/pandas-docs/stable/user_guide/indexing.html#returning-a-view-versus-a-copy\n"
     ]
    }
   ],
   "source": [
    "conditions = [\n",
    "    (df_contemp['network'].str.find('BBC') >= 0),\n",
    "    (df_contemp['network'].str.find('Amazon') >= 0),\n",
    "    (df_contemp['network'].str.find('Hulu') >= 0),\n",
    "    (df_contemp['network'].str.find('NBC') >= 0),\n",
    "    (df_contemp['network'].str.find('Acorn') >= 0),\n",
    "    (df_contemp['network'].str.find('Cartoon Network') >= 0),\n",
    "    (df_contemp['network'].str.find('Netflix') >= 0),\n",
    "    (df_contemp['network'].str.find('Disney') >= 0)\n",
    "]\n",
    "\n",
    "choices = [\n",
    "    'BBC',\n",
    "    'Amazon',\n",
    "    'Hulu',\n",
    "    'NBC',\n",
    "    'Acorn',\n",
    "    'Cartoon Network',\n",
    "    'Netflix',\n",
    "    'Disney'\n",
    "]\n",
    "\n",
    "df_contemp['network'] = np.select(conditions, choices, default=df_contemp['network'])"
   ]
  },
  {
   "cell_type": "code",
   "execution_count": 190,
   "metadata": {},
   "outputs": [
    {
     "data": {
      "text/plain": [
       "Netflix            35\n",
       "HBO                13\n",
       "NBC                 9\n",
       "Amazon              8\n",
       "FX                  7\n",
       "Hulu                7\n",
       "BBC                 6\n",
       "Cartoon Network     6\n",
       "CW                  5\n",
       "USA                 3\n",
       "Starz               3\n",
       "ABC                 3\n",
       "PBS                 3\n",
       "Showtime            2\n",
       "Crunchyroll         2\n",
       "Acorn               2\n",
       "CBS                 2\n",
       "Disney              2\n",
       "Apple TV+           1\n",
       "Aniplex             1\n",
       "TruTV               1\n",
       "Cinemax             1\n",
       "AMC                 1\n",
       "Comedy Central      1\n",
       "Science             1\n",
       "SyFy                1\n",
       "SVT                 1\n",
       "History             1\n",
       "louisck.net         1\n",
       "Channel 5           1\n",
       "WEB TV US           1\n",
       "YouTube Premium     1\n",
       "AT-X                1\n",
       "POP                 1\n",
       "ZDF                 1\n",
       "NGC                 1\n",
       "Name: network, dtype: int64"
      ]
     },
     "execution_count": 190,
     "metadata": {},
     "output_type": "execute_result"
    }
   ],
   "source": [
    "df_contemp['network'].value_counts()"
   ]
  },
  {
   "cell_type": "code",
   "execution_count": 180,
   "metadata": {},
   "outputs": [
    {
     "name": "stderr",
     "output_type": "stream",
     "text": [
      "/opt/anaconda3/envs/learn-env/lib/python3.6/site-packages/ipykernel_launcher.py:21: SettingWithCopyWarning: \n",
      "A value is trying to be set on a copy of a slice from a DataFrame.\n",
      "Try using .loc[row_indexer,col_indexer] = value instead\n",
      "\n",
      "See the caveats in the documentation: https://pandas.pydata.org/pandas-docs/stable/user_guide/indexing.html#returning-a-view-versus-a-copy\n"
     ]
    }
   ],
   "source": [
    "conditions = [\n",
    "    ('BBC' in df_contemp['network'].str.find(\"BBC\") >= 0),\n",
    "    ('Amazon' in df_contemp['network']),\n",
    "    ('Hulu' in df_contemp['network']),\n",
    "    ('NBC' in df_contemp['network']),\n",
    "    ('Acorn' in df_contemp['network']),\n",
    "    ('Cartoon Network' in df_contemp['network']),\n",
    "    ('Netflix' in df_contemp['network'])\n",
    "]\n",
    "\n",
    "choices = [\n",
    "    'BBC',\n",
    "    'Amazon',\n",
    "    'Hulu',\n",
    "    'NBC',\n",
    "    'Acorn',\n",
    "    'Cartoon Network',\n",
    "    'Netflix'\n",
    "]\n",
    "\n",
    "df_contemp['network'] = np.select(conditions, choices, default=df_contemp['network'])"
   ]
  },
  {
   "cell_type": "code",
   "execution_count": 184,
   "metadata": {},
   "outputs": [
    {
     "name": "stderr",
     "output_type": "stream",
     "text": [
      "/opt/anaconda3/envs/learn-env/lib/python3.6/site-packages/ipykernel_launcher.py:1: SettingWithCopyWarning: \n",
      "A value is trying to be set on a copy of a slice from a DataFrame.\n",
      "Try using .loc[row_indexer,col_indexer] = value instead\n",
      "\n",
      "See the caveats in the documentation: https://pandas.pydata.org/pandas-docs/stable/user_guide/indexing.html#returning-a-view-versus-a-copy\n",
      "  \"\"\"Entry point for launching an IPython kernel.\n"
     ]
    }
   ],
   "source": [
    "df_contemp['network_updated'] = np.where((\"BBC\" in df_contemp['network']), \"BBC\", df_contemp['network'])"
   ]
  },
  {
   "cell_type": "code",
   "execution_count": 185,
   "metadata": {},
   "outputs": [
    {
     "data": {
      "text/plain": [
       "0        Netflix\n",
       "1        Netflix\n",
       "2        Netflix\n",
       "3            HBO\n",
       "6            AMC\n",
       "         ...    \n",
       "237    Channel 5\n",
       "239          ZDF\n",
       "241      BBC Two\n",
       "245           FX\n",
       "246      Netflix\n",
       "Name: network_updated, Length: 136, dtype: object"
      ]
     },
     "execution_count": 185,
     "metadata": {},
     "output_type": "execute_result"
    }
   ],
   "source": [
    "df_contemp['network_updated']"
   ]
  },
  {
   "cell_type": "code",
   "execution_count": 121,
   "metadata": {},
   "outputs": [
    {
     "data": {
      "text/plain": [
       "Netflix                                                 34\n",
       "HBO                                                     13\n",
       "NBC                                                      8\n",
       "FX                                                       7\n",
       "Hulu                                                     6\n",
       "CW                                                       5\n",
       "Amazon Prime Video                                       4\n",
       "Cartoon Network                                          4\n",
       "PBS                                                      3\n",
       "USA                                                      3\n",
       "Starz                                                    3\n",
       "Amazon                                                   3\n",
       "ABC                                                      3\n",
       "CBS                                                      2\n",
       "Showtime                                                 2\n",
       "BBC America                                              2\n",
       "Crunchyroll                                              2\n",
       "TruTV                                                    1\n",
       "Acorn TV                                                 1\n",
       "AMC                                                      1\n",
       "Netflix/Cartoon Network/Funimation                       1\n",
       "Aniplex                                                  1\n",
       "SyFy (Seasons 1-3); Amazon Studios                       1\n",
       "SyFy                                                     1\n",
       "Apple TV+                                                1\n",
       "WEB TV US                                                1\n",
       "Cinemax                                                  1\n",
       "Comedy Central                                           1\n",
       "Netflix (season 1); Hulu                                 1\n",
       "SVT                                                      1\n",
       "History                                                  1\n",
       "FOX/Netflix                                              1\n",
       "Disney                                                   1\n",
       "ZDF                                                      1\n",
       "AT-X                                                     1\n",
       "BBC                                                      1\n",
       "BBC UK                                                   1\n",
       "NGC                                                      1\n",
       "YouTube Premium                                          1\n",
       "Acorn                                                    1\n",
       "Channel 5                                                1\n",
       "Science                                                  1\n",
       "louisck.net                                              1\n",
       "POP                                                      1\n",
       "FOX; NBC                                                 1\n",
       "Disney+                                                  1\n",
       "BBC America/AMC                                          1\n",
       "BBC Two                                                  1\n",
       "Cartoon Network (Season 1-2) DC Universe (Season 3-)     1\n",
       "Name: network, dtype: int64"
      ]
     },
     "execution_count": 121,
     "metadata": {},
     "output_type": "execute_result"
    }
   ],
   "source": [
    "network_contemp = df_contemp['network'].value_counts()\n",
    "network_contemp"
   ]
  },
  {
   "cell_type": "code",
   "execution_count": 154,
   "metadata": {},
   "outputs": [
    {
     "data": {
      "text/plain": [
       "Index(['action', 'adventure', 'animation', 'biography', 'comedy', 'crime',\n",
       "       'documentary', 'drama', 'family', 'fantasy', 'game-show', 'history',\n",
       "       'horror', 'music', 'musical', 'mystery', 'news', 'reality-tv',\n",
       "       'romance', 'sci-fi', 'short', 'sport', 'talk-show', 'thriller', 'war',\n",
       "       'western'],\n",
       "      dtype='object')"
      ]
     },
     "execution_count": 154,
     "metadata": {},
     "output_type": "execute_result"
    }
   ],
   "source": [
    "df[df['release_year'] >= 2010]"
   ]
  },
  {
   "cell_type": "code",
   "execution_count": 217,
   "metadata": {},
   "outputs": [
    {
     "data": {
      "text/plain": [
       "(array([ 3.,  2.,  3.,  5.,  3.,  3.,  8.,  5.,  3.,  5., 10., 35., 18.,\n",
       "        22.,  4.,  1.,  1.,  1.,  2.,  2.]),\n",
       " array([7.2  , 7.315, 7.43 , 7.545, 7.66 , 7.775, 7.89 , 8.005, 8.12 ,\n",
       "        8.235, 8.35 , 8.465, 8.58 , 8.695, 8.81 , 8.925, 9.04 , 9.155,\n",
       "        9.27 , 9.385, 9.5  ]),\n",
       " <a list of 20 Patch objects>)"
      ]
     },
     "execution_count": 217,
     "metadata": {},
     "output_type": "execute_result"
    },
    {
     "data": {
      "image/png": "[encoded data removed]",
      "text/plain": [
       "<Figure size 432x288 with 1 Axes>"
      ]
     },
     "metadata": {
      "needs_background": "dark"
     },
     "output_type": "display_data"
    }
   ],
   "source": [
    "plt.hist(df[df['release_year'] >= 2010]['imdb_rating'], bins=20)"
   ]
  },
  {
   "cell_type": "code",
   "execution_count": 219,
   "metadata": {},
   "outputs": [
    {
     "data": {
      "text/plain": [
       "98     9.5\n",
       "64     9.4\n",
       "101    9.3\n",
       "102    9.3\n",
       "36     9.2\n",
       "      ... \n",
       "88     7.4\n",
       "60     7.4\n",
       "48     7.3\n",
       "44     7.2\n",
       "80     7.2\n",
       "Name: imdb_rating, Length: 136, dtype: float64"
      ]
     },
     "execution_count": 219,
     "metadata": {},
     "output_type": "execute_result"
    }
   ],
   "source": [
    "df[df['release_year'] >= 2010]['imdb_rating']"
   ]
  },
  {
   "cell_type": "code",
   "execution_count": 216,
   "metadata": {},
   "outputs": [
    {
     "data": {
      "text/plain": [
       "98     100\n",
       "64      96\n",
       "101     97\n",
       "102     93\n",
       "36      95\n",
       "      ... \n",
       "88      83\n",
       "60      66\n",
       "48      72\n",
       "44      59\n",
       "80      57\n",
       "Name: rt_critic_rating, Length: 136, dtype: int64"
      ]
     },
     "execution_count": 216,
     "metadata": {},
     "output_type": "execute_result"
    }
   ],
   "source": [
    "df[df['release_year'] >= 2010]['rt_critic_rating']"
   ]
  },
  {
   "cell_type": "code",
   "execution_count": 218,
   "metadata": {},
   "outputs": [
    {
     "data": {
      "text/plain": [
       "(array([ 4.,  1.,  1.,  0.,  3.,  2.,  2.,  1.,  2.,  4.,  2.,  6.,  5.,\n",
       "        12., 10.,  8., 24., 15., 17., 17.]),\n",
       " array([ 57.  ,  59.15,  61.3 ,  63.45,  65.6 ,  67.75,  69.9 ,  72.05,\n",
       "         74.2 ,  76.35,  78.5 ,  80.65,  82.8 ,  84.95,  87.1 ,  89.25,\n",
       "         91.4 ,  93.55,  95.7 ,  97.85, 100.  ]),\n",
       " <a list of 20 Patch objects>)"
      ]
     },
     "execution_count": 218,
     "metadata": {},
     "output_type": "execute_result"
    },
    {
     "data": {
      "image/png": "[encoded data removed]",
      "text/plain": [
       "<Figure size 432x288 with 1 Axes>"
      ]
     },
     "metadata": {
      "needs_background": "dark"
     },
     "output_type": "display_data"
    }
   ],
   "source": [
    "plt.hist(df[df['release_year'] >= 2010]['rt_critic_rating'], bins=20)"
   ]
  },
  {
   "cell_type": "code",
   "execution_count": 199,
   "metadata": {},
   "outputs": [
    {
     "data": {
      "text/html": [
       "<div>\n",
       "<style scoped>\n",
       "    .dataframe tbody tr th:only-of-type {\n",
       "        vertical-align: middle;\n",
       "    }\n",
       "\n",
       "    .dataframe tbody tr th {\n",
       "        vertical-align: top;\n",
       "    }\n",
       "\n",
       "    .dataframe thead th {\n",
       "        text-align: right;\n",
       "    }\n",
       "</style>\n",
       "<table border=\"1\" class=\"dataframe\">\n",
       "  <thead>\n",
       "    <tr style=\"text-align: right;\">\n",
       "      <th></th>\n",
       "      <th>title</th>\n",
       "      <th>network</th>\n",
       "      <th>imdb_rating</th>\n",
       "      <th>num_imdb_ratings</th>\n",
       "      <th>rt_critic_rating</th>\n",
       "      <th>genres</th>\n",
       "      <th>tv_rating</th>\n",
       "      <th>release_year</th>\n",
       "      <th>runtime_mins</th>\n",
       "      <th>imdb_url</th>\n",
       "      <th>...</th>\n",
       "      <th>reality-tv</th>\n",
       "      <th>romance</th>\n",
       "      <th>sci-fi</th>\n",
       "      <th>short</th>\n",
       "      <th>sport</th>\n",
       "      <th>talk-show</th>\n",
       "      <th>thriller</th>\n",
       "      <th>war</th>\n",
       "      <th>western</th>\n",
       "      <th>network_updated</th>\n",
       "    </tr>\n",
       "  </thead>\n",
       "  <tbody>\n",
       "    <tr>\n",
       "      <th>0</th>\n",
       "      <td>La Casa de Papel</td>\n",
       "      <td>Netflix</td>\n",
       "      <td>8.5</td>\n",
       "      <td>215007</td>\n",
       "      <td>91</td>\n",
       "      <td>[action, crime, mystery, thriller]</td>\n",
       "      <td>TV-MA</td>\n",
       "      <td>2017</td>\n",
       "      <td>70</td>\n",
       "      <td>https://www.imdb.com/title/tt6468322/</td>\n",
       "      <td>...</td>\n",
       "      <td>0</td>\n",
       "      <td>0</td>\n",
       "      <td>0</td>\n",
       "      <td>0</td>\n",
       "      <td>0</td>\n",
       "      <td>0</td>\n",
       "      <td>1</td>\n",
       "      <td>0</td>\n",
       "      <td>0</td>\n",
       "      <td>Netflix</td>\n",
       "    </tr>\n",
       "    <tr>\n",
       "      <th>1</th>\n",
       "      <td>Ozark</td>\n",
       "      <td>Netflix</td>\n",
       "      <td>8.4</td>\n",
       "      <td>136710</td>\n",
       "      <td>81</td>\n",
       "      <td>[crime, drama, thriller]</td>\n",
       "      <td>TV-MA</td>\n",
       "      <td>2017</td>\n",
       "      <td>60</td>\n",
       "      <td>https://www.imdb.com/title/tt5071412/</td>\n",
       "      <td>...</td>\n",
       "      <td>0</td>\n",
       "      <td>0</td>\n",
       "      <td>0</td>\n",
       "      <td>0</td>\n",
       "      <td>0</td>\n",
       "      <td>0</td>\n",
       "      <td>1</td>\n",
       "      <td>0</td>\n",
       "      <td>0</td>\n",
       "      <td>Netflix</td>\n",
       "    </tr>\n",
       "    <tr>\n",
       "      <th>2</th>\n",
       "      <td>Tiger King</td>\n",
       "      <td>Netflix</td>\n",
       "      <td>7.8</td>\n",
       "      <td>33700</td>\n",
       "      <td>86</td>\n",
       "      <td>[documentary, crime]</td>\n",
       "      <td>TV-MA</td>\n",
       "      <td>2020</td>\n",
       "      <td>31</td>\n",
       "      <td>https://www.imdb.com/title/tt11823076/</td>\n",
       "      <td>...</td>\n",
       "      <td>0</td>\n",
       "      <td>0</td>\n",
       "      <td>0</td>\n",
       "      <td>0</td>\n",
       "      <td>0</td>\n",
       "      <td>0</td>\n",
       "      <td>0</td>\n",
       "      <td>0</td>\n",
       "      <td>0</td>\n",
       "      <td>Netflix</td>\n",
       "    </tr>\n",
       "    <tr>\n",
       "      <th>3</th>\n",
       "      <td>Westworld</td>\n",
       "      <td>HBO</td>\n",
       "      <td>8.7</td>\n",
       "      <td>388252</td>\n",
       "      <td>85</td>\n",
       "      <td>[drama, mystery, sci-fi, western]</td>\n",
       "      <td>TV-MA</td>\n",
       "      <td>2016</td>\n",
       "      <td>62</td>\n",
       "      <td>https://www.imdb.com/title/tt0475784/</td>\n",
       "      <td>...</td>\n",
       "      <td>0</td>\n",
       "      <td>0</td>\n",
       "      <td>1</td>\n",
       "      <td>0</td>\n",
       "      <td>0</td>\n",
       "      <td>0</td>\n",
       "      <td>0</td>\n",
       "      <td>0</td>\n",
       "      <td>1</td>\n",
       "      <td>HBO</td>\n",
       "    </tr>\n",
       "    <tr>\n",
       "      <th>6</th>\n",
       "      <td>Better Call Saul</td>\n",
       "      <td>AMC</td>\n",
       "      <td>8.7</td>\n",
       "      <td>280536</td>\n",
       "      <td>97</td>\n",
       "      <td>[crime, drama]</td>\n",
       "      <td>TV-MA</td>\n",
       "      <td>2015</td>\n",
       "      <td>46</td>\n",
       "      <td>https://www.imdb.com/title/tt3032476/</td>\n",
       "      <td>...</td>\n",
       "      <td>0</td>\n",
       "      <td>0</td>\n",
       "      <td>0</td>\n",
       "      <td>0</td>\n",
       "      <td>0</td>\n",
       "      <td>0</td>\n",
       "      <td>0</td>\n",
       "      <td>0</td>\n",
       "      <td>0</td>\n",
       "      <td>AMC</td>\n",
       "    </tr>\n",
       "  </tbody>\n",
       "</table>\n",
       "<p>5 rows × 37 columns</p>\n",
       "</div>"
      ],
      "text/plain": [
       "              title  network  imdb_rating  num_imdb_ratings  rt_critic_rating  \\\n",
       "0  La Casa de Papel  Netflix          8.5            215007                91   \n",
       "1             Ozark  Netflix          8.4            136710                81   \n",
       "2        Tiger King  Netflix          7.8             33700                86   \n",
       "3         Westworld      HBO          8.7            388252                85   \n",
       "6  Better Call Saul      AMC          8.7            280536                97   \n",
       "\n",
       "                               genres tv_rating  release_year  runtime_mins  \\\n",
       "0  [action, crime, mystery, thriller]     TV-MA          2017            70   \n",
       "1            [crime, drama, thriller]     TV-MA          2017            60   \n",
       "2                [documentary, crime]     TV-MA          2020            31   \n",
       "3   [drama, mystery, sci-fi, western]     TV-MA          2016            62   \n",
       "6                      [crime, drama]     TV-MA          2015            46   \n",
       "\n",
       "                                 imdb_url  ...  reality-tv  romance  sci-fi  \\\n",
       "0   https://www.imdb.com/title/tt6468322/  ...           0        0       0   \n",
       "1   https://www.imdb.com/title/tt5071412/  ...           0        0       0   \n",
       "2  https://www.imdb.com/title/tt11823076/  ...           0        0       0   \n",
       "3   https://www.imdb.com/title/tt0475784/  ...           0        0       1   \n",
       "6   https://www.imdb.com/title/tt3032476/  ...           0        0       0   \n",
       "\n",
       "   short  sport  talk-show  thriller  war  western  network_updated  \n",
       "0      0      0          0         1    0        0          Netflix  \n",
       "1      0      0          0         1    0        0          Netflix  \n",
       "2      0      0          0         0    0        0          Netflix  \n",
       "3      0      0          0         0    0        1              HBO  \n",
       "6      0      0          0         0    0        0              AMC  \n",
       "\n",
       "[5 rows x 37 columns]"
      ]
     },
     "execution_count": 199,
     "metadata": {},
     "output_type": "execute_result"
    }
   ],
   "source": [
    "df_contemp.head()"
   ]
  },
  {
   "cell_type": "code",
   "execution_count": 228,
   "metadata": {},
   "outputs": [],
   "source": [
    "df1 = df[df['runtime_mins'] <= 43]\n",
    "df2 = df[df['runtime_mins'] > 43]"
   ]
  },
  {
   "cell_type": "code",
   "execution_count": 229,
   "metadata": {},
   "outputs": [
    {
     "data": {
      "text/plain": [
       "count    118.000000\n",
       "mean       8.488136\n",
       "std        0.407865\n",
       "min        7.200000\n",
       "25%        8.400000\n",
       "50%        8.500000\n",
       "75%        8.700000\n",
       "max        9.500000\n",
       "Name: imdb_rating, dtype: float64"
      ]
     },
     "execution_count": 229,
     "metadata": {},
     "output_type": "execute_result"
    }
   ],
   "source": [
    "df1['imdb_rating'].describe()"
   ]
  },
  {
   "cell_type": "code",
   "execution_count": 230,
   "metadata": {},
   "outputs": [
    {
     "data": {
      "text/plain": [
       "count    113.000000\n",
       "mean       8.475221\n",
       "std        0.396982\n",
       "min        7.200000\n",
       "25%        8.400000\n",
       "50%        8.500000\n",
       "75%        8.700000\n",
       "max        9.400000\n",
       "Name: imdb_rating, dtype: float64"
      ]
     },
     "execution_count": 230,
     "metadata": {},
     "output_type": "execute_result"
    }
   ],
   "source": [
    "df2['imdb_rating'].describe()"
   ]
  },
  {
   "cell_type": "code",
   "execution_count": 231,
   "metadata": {},
   "outputs": [
    {
     "data": {
      "text/plain": [
       "count    118.000000\n",
       "mean      91.762712\n",
       "std        8.497036\n",
       "min       57.000000\n",
       "25%       88.000000\n",
       "50%       93.000000\n",
       "75%      100.000000\n",
       "max      100.000000\n",
       "Name: rt_critic_rating, dtype: float64"
      ]
     },
     "execution_count": 231,
     "metadata": {},
     "output_type": "execute_result"
    }
   ],
   "source": [
    "df1['rt_critic_rating'].describe()"
   ]
  },
  {
   "cell_type": "code",
   "execution_count": 232,
   "metadata": {},
   "outputs": [
    {
     "data": {
      "text/plain": [
       "count    113.000000\n",
       "mean      86.867257\n",
       "std       10.043214\n",
       "min       59.000000\n",
       "25%       82.000000\n",
       "50%       89.000000\n",
       "75%       94.000000\n",
       "max      100.000000\n",
       "Name: rt_critic_rating, dtype: float64"
      ]
     },
     "execution_count": 232,
     "metadata": {},
     "output_type": "execute_result"
    }
   ],
   "source": [
    "df2['rt_critic_rating'].describe()"
   ]
  },
  {
   "cell_type": "code",
   "execution_count": 202,
   "metadata": {},
   "outputs": [
    {
     "data": {
      "text/plain": [
       "-0.31174106258413303"
      ]
     },
     "execution_count": 202,
     "metadata": {},
     "output_type": "execute_result"
    }
   ],
   "source": [
    "df_contemp['runtime_mins'].corr(df_contemp['rt_critic_rating'])"
   ]
  },
  {
   "cell_type": "code",
   "execution_count": null,
   "metadata": {},
   "outputs": [],
   "source": []
  }
 ],
 "metadata": {
  "kernelspec": {
   "display_name": "Python [conda env:learn-env] *",
   "language": "python",
   "name": "conda-env-learn-env-py"
  },
  "language_info": {
   "codemirror_mode": {
    "name": "ipython",
    "version": 3
   },
   "file_extension": ".py",
   "mimetype": "text/x-python",
   "name": "python",
   "nbconvert_exporter": "python",
   "pygments_lexer": "ipython3",
   "version": "3.6.9"
  }
 },
 "nbformat": 4,
 "nbformat_minor": 2
}
